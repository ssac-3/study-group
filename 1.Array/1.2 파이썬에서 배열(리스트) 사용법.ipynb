{
 "cells": [
  {
   "cell_type": "markdown",
   "metadata": {},
   "source": [
    "|  | <h3>array</h3> | <h3>list</h3> |\n",
    "|:----------:|:----------:|:----------:|\n",
    "| <h4>공통점</h4> | <h4 align=\"center\">연속적인 메모리 공간에 저장된 아이템의 집합</h4> ||\n",
    "| <h4>차이점</h4> | <h4><span style=\"color:red\">여러 타입</span>을 하나의 자료구조에 담을 수 O</h4> | <h4><span style=\"color:red\">초기화하는 시점</span>에 정해진 <span style=\"color:red\">하나의 타입</span>만 가능</h4> |"
   ]
  },
  {
   "cell_type": "markdown",
   "metadata": {},
   "source": [
    "## 1.2.1 리스트 (List)"
   ]
  },
  {
   "cell_type": "markdown",
   "metadata": {},
   "source": [
    "### - 리스트 초기화 (p 33) "
   ]
  },
  {
   "cell_type": "code",
   "execution_count": 1,
   "metadata": {},
   "outputs": [
    {
     "name": "stdout",
     "output_type": "stream",
     "text": [
      "[]\n",
      "[1, 2, 3, 4, 5]\n",
      "[0, 0, 0, 0, 0, 0, 0, 0, 0, 0]\n",
      "[0, 0, 0, 0, 0, 0, 0, 0, 0, 0]\n"
     ]
    }
   ],
   "source": [
    "# 비어 잇는 리스트 선언\n",
    "py_list_empty = []\n",
    "print(py_list_empty)\n",
    "\n",
    "# 1, 2, 3, 4, 5회 요소를 가지는 리스트 선언\n",
    "py_list = [1, 2, 3, 4, 5]\n",
    "print(py_list)\n",
    "\n",
    "# 0을 10개 가지는 리스트 초기화\n",
    "# 방법 1\n",
    "py_list_zeros_1 = [ 0 for i in range(10)]\n",
    "print(py_list_zeros_1)\n",
    "\n",
    "# 방법 2\n",
    "py_list_zeros_2 = [0] * 10\n",
    "print(py_list_zeros_2)"
   ]
  },
  {
   "cell_type": "markdown",
   "metadata": {},
   "source": [
    "### - 리스트 요소 추가 및 삭제 (p 33) \n",
    "   - 요소 **추가** 메서드 : append(). extend(), insert()\n",
    "   - 요소 **삭제** 메서드 : remove(), clear()"
   ]
  },
  {
   "cell_type": "code",
   "execution_count": 2,
   "metadata": {},
   "outputs": [
    {
     "name": "stdout",
     "output_type": "stream",
     "text": [
      "[1, 2, 3, 4, 5, 6]\n",
      "None\n",
      "[1, 2, 3, [4, 5, 6], [4, 5, 6]]\n",
      "None\n",
      "[1, 2, 3, 4, 5, 6, 4, 5, 6]\n",
      "[1, 2, 3, 4]\n",
      "[1, 3, 2, 4]\n",
      "[]\n",
      "[1, 3]\n"
     ]
    }
   ],
   "source": [
    "# py_list를 1, 2, 3, 4, 5로 초기화하고 6 요소를 추가\n",
    "py_list = [1, 2, 3, 4, 5]\n",
    "py_list.append(6)\n",
    "print(py_list)\n",
    "\n",
    "# py_list_1에 py_list2의 [4, 5, 6]을 추가\n",
    "py_list_1 = [1, 2, 3]\n",
    "py_list_2 = [4, 5, 6]\n",
    "print(py_list_1.append(py_list_2)) ## None << Q) 왜 [1, 2, 3, [4, 5, 6], [4, 5, 6]]이 아닌 None이 나오는가?\n",
    "py_list_1.append(py_list_2) # INDEX 5에 배열 그대로 삽입\n",
    "print(py_list_1) \n",
    "\n",
    "# py_list_1에 py_list_2의 [4, 2, 6]을 확장 (extend)\n",
    "py_list_1 = [1, 2, 3]\n",
    "py_list_2 = [4, 5, 6]\n",
    "print(py_list_1.extend(py_list_2)) ## None << Q) 결과를 보면 해당 row에서 연산은 이루어게 분명한데 왜 None이 나오는가?  \n",
    "py_list_1.extend(py_list_2)\n",
    "print(py_list_1)\n",
    "\n",
    "# py_list의 3번재 위치에 4 요소 추가\n",
    "py_list = [1, 2, 3]\n",
    "py_list.insert(3, 4)\n",
    "print(py_list)\n",
    "\n",
    "# py_list에 2의 요소를 삭제\n",
    "# list 내 중복 값이 있으면, 가장 앞쪽 인덱스의 요소가 삭제\n",
    "py_list = [1,2, 3, 2, 4]\n",
    "py_list.remove(2)\n",
    "print(py_list)\n",
    "\n",
    "# py_list의 모든 요소 삭제\n",
    "py_list = [1, 2, 3]\n",
    "py_list.clear()\n",
    "print(py_list)\n",
    "\n",
    "# py_list의 2번째 있는 요소 삭제\n",
    "py_list =[1, 2, 3]\n",
    "del py_list[1] # 인덱스 값\n",
    "print(py_list)"
   ]
  },
  {
   "cell_type": "markdown",
   "metadata": {},
   "source": [
    "### - 리스트 요소 접근 (p 34) \n",
    "   - **인덱스**\n",
    "   - **슬라이싱**"
   ]
  },
  {
   "cell_type": "code",
   "execution_count": 3,
   "metadata": {},
   "outputs": [
    {
     "name": "stdout",
     "output_type": "stream",
     "text": [
      "10\n",
      "10\n",
      "4\n",
      "4\n"
     ]
    }
   ],
   "source": [
    "# 인덱스로 접근\n",
    "\n",
    "py_list = [1, 2, 3, 4, 5, 6, 7, 8, 9, 10]\n",
    "print(py_list[9])\n",
    "print(py_list[-1])\n",
    "print(py_list[3])\n",
    "print(py_list[-7])"
   ]
  },
  {
   "cell_type": "code",
   "execution_count": 4,
   "metadata": {},
   "outputs": [
    {
     "name": "stdout",
     "output_type": "stream",
     "text": [
      "[4, 5, 6, 7, 8]\n",
      "[6, 7, 8, 9, 10]\n",
      "[1, 2, 3, 4]\n",
      "[10, 9, 8, 7, 6, 5, 4, 3, 2, 1]\n",
      "[1, 3, 5, 7, 9]\n",
      "[10, 8, 6, 4, 2]\n"
     ]
    }
   ],
   "source": [
    "# 슬라이싱(slicing)\n",
    "\n",
    "py_list = [1, 2, 3, 4, 5, 6, 7, 8, 9, 10]\n",
    "print(py_list[3:8])\n",
    "print(py_list[5:])\n",
    "print(py_list[:-6])\n",
    "\n",
    "# :: 사용했다면 마지막은 step으로 사용\n",
    "# 리스트를 역순으로 출력\n",
    "print(py_list[::-1])\n",
    "print(py_list[::2])\n",
    "print(py_list[::-2])"
   ]
  },
  {
   "cell_type": "markdown",
   "metadata": {},
   "source": [
    "## 1.2.2 배열 (Array)\n",
    "\n",
    "- 파이썬에서는 C에서 사용하는 배열 접근을 단수히 wrapper하여 지원하는 array 모듈을 제공\n",
    "- **`연속적인 메모리 공간에 저장된 아이템의 집합`** 이라는 점에선 리스트와 유사하지만, array 모듈은 **한 번 설정한 타입의 요소만 추가/삭제 가능**"
   ]
  },
  {
   "cell_type": "markdown",
   "metadata": {},
   "source": [
    "### - Array 모듈을 통한 초기환 (p 37) \n",
    "   - 모듈의 형태로 제공되기에 import 과정 필수\n",
    "   - 리스트와는다르게 초기화에서 해당 배열 타입을 결정해줘야만 함"
   ]
  },
  {
   "cell_type": "code",
   "execution_count": 5,
   "metadata": {},
   "outputs": [
    {
     "name": "stdout",
     "output_type": "stream",
     "text": [
      "<class 'array.array'>\n",
      "array('i', [1, 2, 3])\n"
     ]
    }
   ],
   "source": [
    "import array as arr\n",
    "\n",
    "# 정수형 배열을 선언하고 초깃값으로 [1, 2, 3]을 가지는 array\n",
    "int_array = arr.array('i', [1, 2, 3])\n",
    "\n",
    "print(type(int_array))\n",
    "print(int_array)"
   ]
  },
  {
   "cell_type": "markdown",
   "metadata": {},
   "source": [
    "### - Array 모듈을 통한 삽입 / 삭제 (p 38)\n",
    "   - type code를이용하여 사용하려는 해당 자료형의 데이터를 배열로 관리 가능"
   ]
  },
  {
   "cell_type": "code",
   "execution_count": 6,
   "metadata": {},
   "outputs": [
    {
     "name": "stdout",
     "output_type": "stream",
     "text": [
      "elements in array : 1 2 3 \n",
      "elements after insertion : 1 4 2 3 \n",
      "elements after delete 'i' in array : 4 2 3 \n"
     ]
    }
   ],
   "source": [
    "import array as arr\n",
    "\n",
    "int_arr = arr.array('i', [1, 2, 3])\n",
    "\n",
    "print('elements in array : ', end = \"\")\n",
    "for i in range(0, len(int_arr)):\n",
    "    print(int_arr[i], end = \" \")\n",
    "print()\n",
    "\n",
    "#====================================\n",
    "\n",
    "# i의 위치에 4의 값을 추가\n",
    "int_arr.insert(1, 4) # arrayobject.inser(index position, value)\n",
    "\n",
    "print(\"elements after insertion : \", end = \"\")\n",
    "for i in (int_arr):\n",
    "    print(i, end = \" \")\n",
    "print()\n",
    "\n",
    "#====================================\n",
    "\n",
    "# 값 1을 찾아 제거\n",
    "int_arr.remove(1)\n",
    "\n",
    "print(\"elements after delete \\'i\\' in array : \", end = \"\")\n",
    "for i in (int_arr):\n",
    "    print(i, end = \" \")\n",
    "print()"
   ]
  },
  {
   "cell_type": "markdown",
   "metadata": {},
   "source": [
    "### - Array 모듈을 통한 배열 접근 및 값 업데이트 (p 39)\n",
    "   - 리스트와 같이 기본적인 접근법 외 다양한 접근법을 API를 통해 제공"
   ]
  },
  {
   "cell_type": "code",
   "execution_count": 7,
   "metadata": {},
   "outputs": [
    {
     "name": "stdout",
     "output_type": "stream",
     "text": [
      "int_list's type is :  <class 'list'>\n",
      "int_array's type is :  <class 'array.array'>\n",
      "elements in array : 1 2 3 4 5 6 7 4 5 10 \n",
      "The index of 1stoccurrence of 3 is : 2\n",
      "The index of 1stoccurrence of 1 is : 0\n",
      "elements after updation : 1 2 3 4 5 6 7 4 5 10 \n"
     ]
    }
   ],
   "source": [
    "import array as arr\n",
    "\n",
    "int_list = [1, 2, 3, 4, 5, 6, 7, 4, 5, 10]\n",
    "print(\"int_list's type is : \", type( int_list))\n",
    "\n",
    "# list의 요소를 배열로 변환\n",
    "int_arr = arr.array('i', int_list)\n",
    "print(\"int_array's type is : \", type(int_arr))\n",
    "\n",
    "print(\"elements in array : \", end = \"\")\n",
    "for i in (int_arr):\n",
    "    print(i, end=\" \")\n",
    "print()\n",
    "\n",
    "# 3의 값이 가장 처음 나타나는 배열의 인덱스 출력\n",
    "print(\"The index of 1stoccurrence of 3 is : \", end = \"\")\n",
    "print(int_arr.index(3))\n",
    "print(\"The index of 1stoccurrence of 1 is : \", end = \"\")\n",
    "print(int_arr.index(1))\n",
    "\n",
    "# 배열 4번째 요소의 값을 5로 업데이트\n",
    "int_arr[4] = 5\n",
    "\n",
    "print(\"elements after updation : \", end = \"\")\n",
    "for i in (int_arr):\n",
    "    print(i, end = \" \")\n",
    "print()"
   ]
  }
 ],
 "metadata": {
  "kernelspec": {
   "display_name": "mlstudy3.6",
   "language": "python",
   "name": "mlstudy"
  },
  "language_info": {
   "codemirror_mode": {
    "name": "ipython",
    "version": 3
   },
   "file_extension": ".py",
   "mimetype": "text/x-python",
   "name": "python",
   "nbconvert_exporter": "python",
   "pygments_lexer": "ipython3",
   "version": "3.6.9"
  }
 },
 "nbformat": 4,
 "nbformat_minor": 4
}
